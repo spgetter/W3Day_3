{
 "cells": [
  {
   "cell_type": "markdown",
   "metadata": {},
   "source": [
    "# Algorithms, Binary Search & Linked Lists"
   ]
  },
  {
   "cell_type": "markdown",
   "metadata": {},
   "source": [
    "## Tasks Today:\n",
    " \n",
    "1) <b>In-Place Algorithms</b> <br>\n",
    " &nbsp;&nbsp;&nbsp;&nbsp; a) Syntax <br>\n",
    " &nbsp;&nbsp;&nbsp;&nbsp; a) Out of Place Algorithm <br>\n",
    " &nbsp;&nbsp;&nbsp;&nbsp; b) In-Class Exercise #1 <br>\n",
    "2) <b>Two Pointers</b> <br>\n",
    "3) <b>Linked Lists</b> <br>\n",
    "4) <b>Merge Sort</b> <br>\n",
    " &nbsp;&nbsp;&nbsp;&nbsp; a) Video on Algorithms <br>\n",
    " &nbsp;&nbsp;&nbsp;&nbsp; b) How it Works <br>\n",
    "5) <b>Exercises</b> <br>\n",
    " &nbsp;&nbsp;&nbsp;&nbsp; a) Exercise #1 - Reverse a List in Place Using an In-Place Algorithm <br>\n",
    " &nbsp;&nbsp;&nbsp;&nbsp; b) Exercise #2 - Find Distinct Words <br>\n",
    " &nbsp;&nbsp;&nbsp;&nbsp; c) Exercise #3 - Write a program to implement a Linear Search Algorithm. <br>"
   ]
  },
  {
   "cell_type": "markdown",
   "metadata": {},
   "source": [
    "## In-Place Algorithms"
   ]
  },
  {
   "cell_type": "markdown",
   "metadata": {},
   "source": [
    "#### Syntax"
   ]
  },
  {
   "cell_type": "code",
   "execution_count": 2,
   "metadata": {},
   "outputs": [
    {
     "name": "stdout",
     "output_type": "stream",
     "text": [
      "Before swap: [20, 4, 10]\n",
      "After swap: [10, 4, 20]\n"
     ]
    }
   ],
   "source": [
    "# var[i], var[i+1] = var[i+1], var[i]\n",
    "# sometimes called the swap algorithm\n",
    "\n",
    "def swap(alist,x,y,z):\n",
    "    alist[x],alist[y],alist[z] = alist[z],alist[y],alist[x]\n",
    "    return alist\n",
    "\n",
    "my_list = [20,4,10]\n",
    "print(f\"Before swap: {my_list}\")\n",
    "\n",
    "swap(my_list,0,1,2)\n",
    "print(f\"After swap: {my_list}\")"
   ]
  },
  {
   "cell_type": "markdown",
   "metadata": {},
   "source": [
    "#### Out of Place Algorithm"
   ]
  },
  {
   "cell_type": "code",
   "execution_count": 6,
   "metadata": {},
   "outputs": [
    {
     "name": "stdout",
     "output_type": "stream",
     "text": [
      "[20, 4, 10]\n",
      "Before ['a', 'b', 'c', 'd']\n",
      "New array ['d', 'c', 'b', 'a']\n",
      "After ['a', 'b', 'c', 'd']\n"
     ]
    }
   ],
   "source": [
    "# not swapping, but rather reversing completely\n",
    "# This creates a copy to another place in memory\n",
    "\n",
    "my_list_copy = my_list[::-1]\n",
    "print(my_list_copy)\n",
    "\n",
    "array = ['a','b','c','d']\n",
    "new_array = ['a'] * len(array)\n",
    "\n",
    "print('Before',array)\n",
    "\n",
    "length = len(array) - 1\n",
    "\n",
    "for i in range(length):\n",
    "    new_array[i] = array[length - i]\n",
    "    \n",
    "print('New array',new_array)\n",
    "print('After',array)"
   ]
  },
  {
   "cell_type": "markdown",
   "metadata": {},
   "source": [
    "#### In-Class Exercise #1 <br>\n",
    "<p>Write a function that takes in four arguments (list, index1, index2, index3), and swaps those three positions in the list passed in.</p>"
   ]
  },
  {
   "cell_type": "code",
   "execution_count": 8,
   "metadata": {},
   "outputs": [
    {
     "name": "stdout",
     "output_type": "stream",
     "text": [
      "before [10, 4, 3, 8, 4, 2, 6]\n",
      "after [6, 4, 3, 10, 4, 2, 8]\n"
     ]
    }
   ],
   "source": [
    "l_1 = [10, 4, 3, 8, 4, 2, 6]\n",
    "\n",
    "def do_swap(li,i1,i2,i3):\n",
    "    li[i1],li[i2],li[i3] = li[i3],li[i1],li[i2]\n",
    "    return li\n",
    "\n",
    "print('before',l_1)\n",
    "do_swap(l_1,0,3,6)\n",
    "print('after',l_1)"
   ]
  },
  {
   "cell_type": "markdown",
   "metadata": {},
   "source": [
    "## Two Pointers"
   ]
  },
  {
   "cell_type": "markdown",
   "metadata": {},
   "source": [
    "#### Syntax"
   ]
  },
  {
   "cell_type": "code",
   "execution_count": 9,
   "metadata": {},
   "outputs": [
    {
     "name": "stdout",
     "output_type": "stream",
     "text": [
      "[5, 99, 7, 16, 3, 2, 1]\n"
     ]
    }
   ],
   "source": [
    "# alist[left], alist[right] = alist[right],alist[left]\n",
    "# Use two pointers to swap, can use a while loop in most cases\n",
    "\n",
    "def two_pointers(alist):\n",
    "    # Creating pointers for the list below:\n",
    "    left = 0\n",
    "    right = len(alist) - 1\n",
    "    while left <= right:\n",
    "        alist[left], alist[right] = alist[right],alist[left]\n",
    "        left += 1\n",
    "        right -= 1\n",
    "    return alist\n",
    "\n",
    "my_list_2 = [1,2,3,16,7,99,5]\n",
    "print(two_pointers(my_list_2))"
   ]
  },
  {
   "cell_type": "markdown",
   "metadata": {},
   "source": [
    "#### Video of Algorithms <br>\n",
    "<p>Watch the video about algorithms.</p>\n",
    "\n",
    "https://www.youtube.com/watch?v=Q9HjeFD62Uk\n",
    "\n",
    "https://www.youtube.com/watch?v=kPRA0W1kECg\n",
    "\n",
    "https://www.youtube.com/watch?v=ZZuD6iUe3Pc"
   ]
  },
  {
   "cell_type": "markdown",
   "metadata": {},
   "source": [
    "# Sorting Algorithms"
   ]
  },
  {
   "cell_type": "markdown",
   "metadata": {},
   "source": [
    "#### Bubble Sort\n",
    "\n",
    "Worst Case: O(n^2) Time - O(1) Space"
   ]
  },
  {
   "cell_type": "code",
   "execution_count": 12,
   "metadata": {},
   "outputs": [
    {
     "name": "stdout",
     "output_type": "stream",
     "text": [
      "[1, 22, 34, 44, 55, 66, 88, 100]\n"
     ]
    }
   ],
   "source": [
    "# Best case scenario O(n) aka linear\n",
    "\n",
    "# helper function\n",
    "def swap(i,j,array):\n",
    "    array[i],array[j] = array[j],array[i]\n",
    "    \n",
    "def bubble_sort(array):\n",
    "    isSorted = False\n",
    "    while not isSorted:\n",
    "        isSorted = True\n",
    "        for num in range(len(array)-1):\n",
    "            if array[num] > array[num + 1]:\n",
    "                swap(num,num+1,array)\n",
    "                isSorted = False\n",
    "    return array\n",
    "\n",
    "print(bubble_sort([22,55,88,44,1,100,34,66]))\n",
    "        "
   ]
  },
  {
   "cell_type": "markdown",
   "metadata": {},
   "source": [
    "##### Insertion Sort\n",
    "\n",
    "Worst Case: O(n^2) time - O(1)space"
   ]
  },
  {
   "cell_type": "code",
   "execution_count": 17,
   "metadata": {},
   "outputs": [
    {
     "name": "stdout",
     "output_type": "stream",
     "text": [
      "[22, 55, 88, 44, 1, 100, 34, 66]\n",
      "i = 3, j = 2: [22, 55, 44, 88, 1, 100, 34, 66]\n",
      "\n",
      "i = 3, j = 1: [22, 44, 55, 88, 1, 100, 34, 66]\n",
      "\n",
      "i = 4, j = 3: [22, 44, 55, 1, 88, 100, 34, 66]\n",
      "\n",
      "i = 4, j = 2: [22, 44, 1, 55, 88, 100, 34, 66]\n",
      "\n",
      "i = 4, j = 1: [22, 1, 44, 55, 88, 100, 34, 66]\n",
      "\n",
      "i = 4, j = 0: [1, 22, 44, 55, 88, 100, 34, 66]\n",
      "\n",
      "i = 6, j = 5: [1, 22, 44, 55, 88, 34, 100, 66]\n",
      "\n",
      "i = 6, j = 4: [1, 22, 44, 55, 34, 88, 100, 66]\n",
      "\n",
      "i = 6, j = 3: [1, 22, 44, 34, 55, 88, 100, 66]\n",
      "\n",
      "i = 6, j = 2: [1, 22, 34, 44, 55, 88, 100, 66]\n",
      "\n",
      "i = 7, j = 6: [1, 22, 34, 44, 55, 88, 66, 100]\n",
      "\n",
      "i = 7, j = 5: [1, 22, 34, 44, 55, 66, 88, 100]\n",
      "\n",
      "[1, 22, 34, 44, 55, 66, 88, 100]\n"
     ]
    }
   ],
   "source": [
    "def swap(i,j,array):\n",
    "    array[i],array[j] = array[j],array[i]\n",
    "    \n",
    "def insertion_sort(array):\n",
    "    for i in range(1,len(array)):\n",
    "        j = i\n",
    "        while j > 0 and array[j] < array[j-1]:\n",
    "            swap(j,j-1,array)\n",
    "            j -= 1\n",
    "            print(f\"i = {i}, j = {j}: {array}\\n\")\n",
    "    return array\n",
    "print([22,55,88,44,1,100,34,66])\n",
    "print(insertion_sort([22,55,88,44,1,100,34,66]))\n",
    "            "
   ]
  },
  {
   "cell_type": "markdown",
   "metadata": {},
   "source": [
    "## Merge Sort"
   ]
  },
  {
   "cell_type": "markdown",
   "metadata": {},
   "source": [
    "#### How it Works"
   ]
  },
  {
   "cell_type": "code",
   "execution_count": 24,
   "metadata": {},
   "outputs": [
    {
     "name": "stdout",
     "output_type": "stream",
     "text": [
      "Original numbs list: [5, 5, 1, 20, 2]\n",
      "Splitting... [5, 5, 1, 20, 2]\n",
      "Splitting... [5, 5]\n",
      "Splitting... [5]\n",
      "Merging...  [5]\n",
      "Splitting... [5]\n",
      "Merging...  [5]\n",
      "Merging...  [5, 5]\n",
      "Splitting... [1, 20, 2]\n",
      "Splitting... [1]\n",
      "Merging...  [1]\n",
      "Splitting... [20, 2]\n",
      "Splitting... [20]\n",
      "Merging...  [20]\n",
      "Splitting... [2]\n",
      "Merging...  [2]\n",
      "Merging...  [2, 20]\n",
      "Merging...  [1, 2, 20]\n",
      "Merging...  [1, 2, 5, 5, 20]\n",
      "Sorted numbs list: [1, 2, 5, 5, 20]\n"
     ]
    }
   ],
   "source": [
    "# Step 1 is to split all into own groups\n",
    "# step 2 merge from left to right\n",
    "# step 3 while merging place into correct positions\n",
    "# step 4 continue 2-3 until sorted in one group\n",
    "\n",
    "# import random integers\n",
    "from random import randint\n",
    "nums = [randint(0,20) for i in range(5)]\n",
    "\n",
    "# function for merge sort\n",
    "def merge_sort(alist):\n",
    "    print('Splitting...',alist)\n",
    "    \n",
    "    #step 1:\n",
    "    if len(alist) > 1:\n",
    "        mid = len(alist)//2\n",
    "        lefthalf = alist[:mid]\n",
    "        righthalf = alist[mid:]\n",
    "        \n",
    "        # recursively call merge_sort\n",
    "        # then merge splits are done\n",
    "        merge_sort(lefthalf)\n",
    "        merge_sort(righthalf)\n",
    "        \n",
    "        # index pointers for our list\n",
    "        i = 0 # pointer for lefthalf\n",
    "        j = 0 # pointer for righthalf\n",
    "        k = 0 # pointer for main array\n",
    "        \n",
    "        # step 2: compare and merge left and right halves\n",
    "        while i < len(lefthalf) and j < len(righthalf):\n",
    "            if lefthalf[i] < righthalf[j]:\n",
    "                alist[k] = lefthalf[i]\n",
    "                i = i + 1\n",
    "            else:\n",
    "                alist[k] = righthalf[j]\n",
    "                j = j + 1\n",
    "            k = k + 1\n",
    "            \n",
    "        #step 3:\n",
    "        while i < len(lefthalf):\n",
    "            alist[k] = lefthalf[i]\n",
    "            i = i + 1\n",
    "            k = k + 1\n",
    "        while j < len(righthalf):\n",
    "            alist[k] = righthalf[j]\n",
    "            j = j + 1\n",
    "            k = k + 1\n",
    "            \n",
    "    print('Merging... ', alist)\n",
    "    return alist\n",
    "\n",
    "print(f\"Original numbs list: {nums}\")\n",
    "print(f\"Sorted numbs list: {merge_sort(nums)}\")\n",
    "            "
   ]
  },
  {
   "cell_type": "markdown",
   "metadata": {},
   "source": [
    "# Binary Search\n",
    "\n",
    "The Binary Search algorithm works by finding the number in the middle of a given array and comparing it to the target. Given that the array is sorted\n",
    "\n",
    "* The worst case run time for this algorithm is `O(log(n))`"
   ]
  },
  {
   "cell_type": "code",
   "execution_count": 28,
   "metadata": {},
   "outputs": [
    {
     "name": "stdout",
     "output_type": "stream",
     "text": [
      "the index is 6\n"
     ]
    }
   ],
   "source": [
    "# less == left\n",
    "# greater == right\n",
    "# list of numbers must already be sorted\n",
    "\n",
    "#helper function\n",
    "def binary_search_helper(array, target, left, right):\n",
    "    while left <= right:\n",
    "        middle = (left + right)//2\n",
    "        potential_match = array[middle]\n",
    "        if target == potential_match:\n",
    "            return f\"the index is {middle}\"\n",
    "        elif target < potential_match:\n",
    "            right = middle - 1\n",
    "        else:\n",
    "            left = middle + 1\n",
    "    return -1\n",
    "\n",
    "def binary_search(array,target):\n",
    "    return binary_search_helper(array, target, 0, len(array)-1)\n",
    "\n",
    "print(binary_search([1, 22, 34, 44, 55, 66, 88, 100],88))\n",
    "    "
   ]
  },
  {
   "cell_type": "markdown",
   "metadata": {},
   "source": [
    "# Exercises"
   ]
  },
  {
   "cell_type": "markdown",
   "metadata": {},
   "source": [
    "### Exercise #1 <br>\n",
    "<p>Reverse the list below in-place using an in-place algorithm.<br>For extra credit: Reverse the strings at the same time.</p>"
   ]
  },
  {
   "cell_type": "code",
   "execution_count": 37,
   "metadata": {},
   "outputs": [
    {
     "name": "stdout",
     "output_type": "stream",
     "text": [
      "['.', 'sentence', 'a', 'is', 'this']\n"
     ]
    }
   ],
   "source": [
    "words = ['this' , 'is', 'a', 'sentence', '.']\n",
    "\n",
    "def two_pointers(alist):\n",
    "    # Creating pointers for the list below:\n",
    "    left = 0\n",
    "    right = len(alist) - 1\n",
    "    while left <= right:\n",
    "        alist[left], alist[right] = alist[right],alist[left]\n",
    "        left += 1\n",
    "        right -= 1\n",
    "    return alist\n",
    "\n",
    "# words = [word.split(', ') for word in words]\n",
    "# for i in range(len(words)):\n",
    "#     words[i] = two_pointers(words[i])\n",
    "print(two_pointers(words))\n"
   ]
  },
  {
   "cell_type": "markdown",
   "metadata": {},
   "source": [
    "### Exercise #2 <br>\n",
    "<p>Create a function that counts how many distinct words are in the string below, then outputs a dictionary with the words as the key and the value as the amount of times that word appears in the string.<br>Should output:<br>{'a': 5,<br>\n",
    " 'abstract': 1,<br>\n",
    " 'an': 3,<br>\n",
    " 'array': 2, ... etc...</p>"
   ]
  },
  {
   "cell_type": "code",
   "execution_count": 81,
   "metadata": {},
   "outputs": [
    {
     "name": "stdout",
     "output_type": "stream",
     "text": [
      "Distinct words = 36: \n",
      "WORD:APPEARS\n",
      " [{'type,': 1}, {'index': 1}, {'buckets': 1}, {'hash': 4}, {'be': 1}, {'computing,': 1}, {'into': 1}, {'array': 2}, {'value': 2}, {'slots': 1}, {'keys': 1}, {'or': 1}, {'associative': 1}, {'from': 1}, {'found': 1}, {'which': 2}, {'to': 3}, {' a ': 4}, {'that': 1}, {'is': 1}, {'the': 1}, {'data': 2}, {'of': 1}, {'map': 2}, {'compute': 1}, {'structure': 2}, {'table': 2}, {'values.': 1}, {'can': 2}, {'desired': 1}, {'function': 1}, {'an': 5}, {'uses': 1}, {'in': 3}, {'implements': 1}, {'abstract': 1}]\n",
      "\n"
     ]
    }
   ],
   "source": [
    "import re\n",
    "\n",
    "a_text = 'In computing, a hash table hash map is a data structure which implements an associative array abstract data type, a structure that can map keys to values. A hash table uses a hash function to compute an index into an array of buckets or slots from which the desired value can be found'\n",
    "b_text = set(a_text.lower().split())\n",
    "# pattern = re.compile(r'\\b([a-z])+\\b')\n",
    "# match = pattern.search(b_text)\n",
    "length = len(b_text)\n",
    "final = []\n",
    "for item in b_text:\n",
    "    if len(item) == 1:\n",
    "        item = (f\" {item} \")\n",
    "    diction = {item: a_text.count(item)}\n",
    "    final.append(diction)\n",
    "print(f\"Distinct words = {length}: \\nWORD:APPEARS\\n {final}\\n\")    "
   ]
  },
  {
   "cell_type": "markdown",
   "metadata": {},
   "source": [
    "## Exercise #3\n",
    "\n",
    "Write a program to implement a Linear Search Algorithm. Also in a comment, write the Time Complexity of the following algorithm.\n",
    "\n",
    "#### Hint: Linear Searching will require searching a list for a given number. "
   ]
  },
  {
   "cell_type": "code",
   "execution_count": 69,
   "metadata": {},
   "outputs": [
    {
     "name": "stdout",
     "output_type": "stream",
     "text": [
      "10\n"
     ]
    }
   ],
   "source": [
    "# The following algorithm has a time complexity of O(n) because it only searches each object one time:\n",
    "for x in [1,5,7,23,89,6,32,10]:\n",
    "    if x == 10:\n",
    "        print(x) \n"
   ]
  }
 ],
 "metadata": {
  "kernelspec": {
   "display_name": "Python 3",
   "language": "python",
   "name": "python3"
  },
  "language_info": {
   "codemirror_mode": {
    "name": "ipython",
    "version": 3
   },
   "file_extension": ".py",
   "mimetype": "text/x-python",
   "name": "python",
   "nbconvert_exporter": "python",
   "pygments_lexer": "ipython3",
   "version": "3.8.8"
  }
 },
 "nbformat": 4,
 "nbformat_minor": 2
}
